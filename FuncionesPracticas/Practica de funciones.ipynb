{
 "cells": [
  {
   "cell_type": "markdown",
   "id": "3ff9bc08",
   "metadata": {},
   "source": [
    "# Ejercicios de funciones"
   ]
  },
  {
   "cell_type": "markdown",
   "id": "1f5a900a",
   "metadata": {},
   "source": [
    "## Exercise 1\n",
    "\n",
    "Define a function that accepts 2 values and return its sum, subtraction and multiplication."
   ]
  },
  {
   "cell_type": "code",
   "execution_count": 1,
   "id": "4d3a076e",
   "metadata": {},
   "outputs": [],
   "source": [
    "def result(a, b):\n",
    "    # CODE HERE\n",
    "    pass"
   ]
  },
  {
   "cell_type": "markdown",
   "id": "36e46531",
   "metadata": {},
   "source": [
    "Expected output from function when:\n",
    "$$\n",
    "a = 7\n",
    "$$\n",
    "\n",
    "$$\n",
    "b = 5\n",
    "$$\n",
    "\n",
    "\n",
    "```\n",
    "> Sum: 12\n",
    "> Sub: 2\n",
    "> Mult: 35\n",
    "```"
   ]
  },
  {
   "cell_type": "code",
   "execution_count": 2,
   "id": "38ada50d",
   "metadata": {},
   "outputs": [],
   "source": [
    "# Testing function\n",
    "\n",
    "a = 7\n",
    "b = 5\n",
    "\n",
    "result(a,b)"
   ]
  },
  {
   "cell_type": "markdown",
   "id": "0ea7d904",
   "metadata": {},
   "source": [
    "## Exercise 2\n",
    "Define a function that accepts roll number and returns whether the student is present or absent.\n",
    "\n",
    "\n",
    "```\n",
    "Hint\n",
    "Use a list to store sample roll. no.\n",
    "Get input from a user and check if the number\n",
    "exist in the list or not, if exists return present\n",
    "else return absent\n",
    "```"
   ]
  },
  {
   "cell_type": "code",
   "execution_count": 3,
   "id": "8b47a58a",
   "metadata": {},
   "outputs": [],
   "source": [
    "def detail(roll):\n",
    "    # CODE HERE\n",
    "    pass"
   ]
  },
  {
   "cell_type": "markdown",
   "id": "12609939",
   "metadata": {},
   "source": [
    "Expected output from function when:\n",
    "$$\n",
    "roll = 24\n",
    "$$\n",
    "\n",
    "```\n",
    "> Roll number 24 is absent\n",
    "```"
   ]
  },
  {
   "cell_type": "code",
   "execution_count": 4,
   "id": "cc1d129a",
   "metadata": {},
   "outputs": [],
   "source": [
    "# Testing function\n",
    "\n",
    "roll = 24\n",
    "\n",
    "detail(roll)"
   ]
  },
  {
   "cell_type": "markdown",
   "id": "57ad66fa",
   "metadata": {},
   "source": [
    "## Exercise 3\n",
    "\n",
    "Define a function that accepts 3 values and returns the maximum of three numbers."
   ]
  },
  {
   "cell_type": "code",
   "execution_count": 5,
   "id": "fcc4b018",
   "metadata": {},
   "outputs": [],
   "source": [
    "def max_of_three(a, b, c):\n",
    "    # CODE HERE\n",
    "    pass"
   ]
  },
  {
   "cell_type": "markdown",
   "id": "9c3c1a97",
   "metadata": {},
   "source": [
    "Expected output from function when:\n",
    "$$\n",
    "a = 30\n",
    "$$\n",
    "$$\n",
    "b = 22\n",
    "$$\n",
    "$$\n",
    "c = 18\n",
    "$$\n",
    "\n",
    "```\n",
    "> 30 is the maximum among all\n",
    "```"
   ]
  },
  {
   "cell_type": "code",
   "execution_count": 6,
   "id": "75196129",
   "metadata": {},
   "outputs": [],
   "source": [
    "# Testing function\n",
    "a = 30\n",
    "b = 22\n",
    "c = 18\n",
    "\n",
    "max_of_three(a, b, c)"
   ]
  },
  {
   "cell_type": "markdown",
   "id": "20827bd3",
   "metadata": {},
   "source": [
    "## Exercise 4\n",
    "\n",
    "Define a function that accepts a number and returns whether the number is even or odd."
   ]
  },
  {
   "cell_type": "code",
   "execution_count": 7,
   "id": "9c5e79c4",
   "metadata": {},
   "outputs": [],
   "source": [
    "def is_even(number):\n",
    "    # CODE HERE\n",
    "    pass"
   ]
  },
  {
   "cell_type": "markdown",
   "id": "75d3016f",
   "metadata": {},
   "source": [
    "Expected output from function when:\n",
    "$$\n",
    "number = 4\n",
    "$$\n",
    "\n",
    "```\n",
    "> 4 is an even number\n",
    "```\n",
    "----\n",
    "\n",
    "Expected output from function when:\n",
    "$$\n",
    "number = 5\n",
    "$$\n",
    "\n",
    "```\n",
    "> 5 is an odd number\n",
    "```"
   ]
  },
  {
   "cell_type": "code",
   "execution_count": 8,
   "id": "1e2ef8f3",
   "metadata": {},
   "outputs": [],
   "source": [
    "# Testing function\n",
    "\n",
    "number = 4\n",
    "is_even(number)"
   ]
  },
  {
   "cell_type": "code",
   "execution_count": 9,
   "id": "f63d65e0",
   "metadata": {},
   "outputs": [],
   "source": [
    "# Testing function\n",
    "\n",
    "number = 5\n",
    "is_even(number)"
   ]
  },
  {
   "cell_type": "markdown",
   "id": "a533d67a",
   "metadata": {},
   "source": [
    "## Exercise 5\n",
    "\n",
    "Define a function which counts vowels and consonant in a word."
   ]
  },
  {
   "cell_type": "code",
   "execution_count": 10,
   "id": "f71c0323",
   "metadata": {},
   "outputs": [],
   "source": [
    "def count_vowels(word):\n",
    "    # CODE HERE\n",
    "    pass"
   ]
  },
  {
   "cell_type": "markdown",
   "id": "da94291e",
   "metadata": {},
   "source": [
    "Expected output from function when:\n",
    "$$\n",
    "word = \"pythonlobby\"\n",
    "$$\n",
    "\n",
    "```\n",
    "> Count of vowel is = 2\n",
    "> Count of consonant is = 9\n",
    "```"
   ]
  },
  {
   "cell_type": "code",
   "execution_count": 11,
   "id": "a16910c8",
   "metadata": {},
   "outputs": [],
   "source": [
    "# Testing function\n",
    "\n",
    "word = \"pythonlobby\"\n",
    "count_vowels(word)"
   ]
  },
  {
   "cell_type": "markdown",
   "id": "c5eaac9e",
   "metadata": {},
   "source": [
    "## Exercise 6\n",
    "\n",
    "Define a function that returns Factorial of a number."
   ]
  },
  {
   "cell_type": "code",
   "execution_count": 12,
   "id": "eaa7188b",
   "metadata": {},
   "outputs": [],
   "source": [
    "def factorial(number):\n",
    "    # CODE HERE\n",
    "    pass"
   ]
  },
  {
   "cell_type": "markdown",
   "id": "1426f5e0",
   "metadata": {},
   "source": [
    "Expected output from function when:\n",
    "$$\n",
    "number = 6\n",
    "$$\n",
    "\n",
    "```\n",
    "> Factorial is 720\n",
    "```"
   ]
  },
  {
   "cell_type": "code",
   "execution_count": 13,
   "id": "f885baf3",
   "metadata": {},
   "outputs": [],
   "source": [
    "# Testing function\n",
    "\n",
    "number = 6\n",
    "factorial(number)"
   ]
  },
  {
   "cell_type": "markdown",
   "id": "77afeed8",
   "metadata": {},
   "source": [
    "## Exercise 7\n",
    "\n",
    "Define a function that accepts lowercase words and returns uppercase words."
   ]
  },
  {
   "cell_type": "code",
   "execution_count": 14,
   "id": "3f3d2139",
   "metadata": {},
   "outputs": [],
   "source": [
    "def conver_to_uppercase(word):\n",
    "    # CODE HERE\n",
    "    pass"
   ]
  },
  {
   "cell_type": "markdown",
   "id": "f5b0ab42",
   "metadata": {},
   "source": [
    "Expected output from function when:\n",
    "$$\n",
    "word = \"pythonlobby\"\n",
    "$$\n",
    "\n",
    "```\n",
    "> PYTHONLOBBY\n",
    "```"
   ]
  },
  {
   "cell_type": "code",
   "execution_count": 15,
   "id": "916ec77c",
   "metadata": {},
   "outputs": [],
   "source": [
    "# Testing function\n",
    "\n",
    "word = \"pythonlobby\"\n",
    "conver_to_uppercase(word)"
   ]
  },
  {
   "cell_type": "markdown",
   "id": "59ebb949",
   "metadata": {},
   "source": [
    "## Exercise 8\n",
    "Define a function that accepts radius and returns the area of a circle."
   ]
  },
  {
   "cell_type": "code",
   "execution_count": 16,
   "id": "124e9312",
   "metadata": {},
   "outputs": [],
   "source": [
    "def area(radius):\n",
    "    # CODE HERE\n",
    "    pass"
   ]
  },
  {
   "cell_type": "markdown",
   "id": "0e26e79c",
   "metadata": {},
   "source": [
    "Expected output from function when:\n",
    "$$\n",
    "radius = 4\n",
    "$$\n",
    "\n",
    "```\n",
    "> Area of the circle is 50.24\n",
    "```"
   ]
  },
  {
   "cell_type": "code",
   "execution_count": 17,
   "id": "e93bd97b",
   "metadata": {},
   "outputs": [],
   "source": [
    "# Testing function\n",
    "\n",
    "radius = 4\n",
    "area(radius)"
   ]
  },
  {
   "cell_type": "markdown",
   "id": "f4313c62",
   "metadata": {},
   "source": [
    "## Exercise 9\n",
    "Define a function that generates a list ```a``` of all the even numbers satisfying the following condition:\n",
    "$$x<a<y$$"
   ]
  },
  {
   "cell_type": "code",
   "execution_count": 18,
   "id": "93aa650a",
   "metadata": {},
   "outputs": [],
   "source": [
    "def generate_list(x, y):\n",
    "    # CODE HERE\n",
    "    pass"
   ]
  },
  {
   "cell_type": "markdown",
   "id": "38b0fedd",
   "metadata": {},
   "source": [
    "Expected output from function when:\n",
    "$$\n",
    "a \\in [x, y]\n",
    "$$\n",
    "\n",
    "$$\n",
    "x = 4\n",
    "$$\n",
    "    \n",
    "$$\n",
    "y = \\frac{2x^3 + 5x^2 - 8}{x + 2} \n",
    "$$\n",
    "\n",
    "```\n",
    "> [4, 6, 8, 10, 12, 14, 16, 18, 20, 22, 24, 26, 28]\n",
    "```"
   ]
  },
  {
   "cell_type": "code",
   "execution_count": 19,
   "id": "3e665b19",
   "metadata": {},
   "outputs": [],
   "source": [
    "# Testing function\n",
    "\n",
    "x = \"?\"\n",
    "y = \"?\"\n",
    "\n",
    "generate_list(x, y)"
   ]
  },
  {
   "cell_type": "markdown",
   "id": "84a6c838",
   "metadata": {},
   "source": [
    "## Exercise 10\n",
    "\n",
    "Find the largest ```n``` from a given list ```a``` that satisfies:\n",
    "$$\n",
    "\\{ n_1, n_2, \\ldots, n_k \\} \\subseteq A \\\n",
    "$$"
   ]
  },
  {
   "cell_type": "code",
   "execution_count": 20,
   "id": "32d0d93a",
   "metadata": {},
   "outputs": [],
   "source": [
    "def largest_n(a):\n",
    "    # CODE HERE\n",
    "    pass"
   ]
  },
  {
   "cell_type": "markdown",
   "id": "019b181f",
   "metadata": {},
   "source": [
    "Expected output from function when:\n",
    "\n",
    "$$\n",
    "\\{ 4, 6, 8, 24, 12, 2 \\} \\subseteq A \\\n",
    "$$\n",
    "\n",
    "```\n",
    "> 24\n",
    "```"
   ]
  },
  {
   "cell_type": "code",
   "execution_count": 21,
   "id": "ae64e18c",
   "metadata": {},
   "outputs": [],
   "source": [
    "# Testing function\n",
    "\n",
    "a = \"?\"\n",
    "\n",
    "largest_n(a)"
   ]
  },
  {
   "cell_type": "markdown",
   "id": "462c28ff",
   "metadata": {},
   "source": [
    "## Exercise 11\n",
    "\n",
    "Write a Python function that prints out the first ```Z``` rows of Pascal's triangle.\n",
    "\n",
    "**Note:** Pascal's triangle is an arithmetic and geometric figure first imagined by Blaise Pascal.\n"
   ]
  },
  {
   "cell_type": "code",
   "execution_count": 1,
   "id": "c1c6c533",
   "metadata": {},
   "outputs": [],
   "source": [
    "def pascal_triange(Z):\n",
    "    # CODE HERE\n",
    "    pass"
   ]
  },
  {
   "cell_type": "markdown",
   "id": "7c34907d",
   "metadata": {},
   "source": [
    "Expected output from function when:\n",
    "$$i<Z<j$$\n",
    "\n",
    "Where we know:\n",
    "$$i>0$$\n",
    "$$a=5$$\n",
    "\n",
    "$$j = \\frac{MaxZ}{(10a - 5)*10000}$$\n",
    "\n",
    "Where the optimal solution of ```Z``` is given by the for the following scenario:\n",
    "\n",
    "A certain furniture factory produces tables, desks, and wooden chairs. These three products go through the carpentry department. If the carpentry department were dedicated only to the production of tables, 1,000 units would be produced per day; if the department were dedicated only to the production of desks, 500 units would be produced per day; if the carpentry department were dedicated to the production of only chairs, 1,500 chairs would be produced per day. Each chair contributes 100.00 dollars to the company's profit, each desk contributes 400.00 dollars, and each table contributes 500.00 dollars. Consider the following integer variables as decision variables:\n",
    "\n",
    "x¹ = quantity of tables produced\n",
    "\n",
    "x² = quantity of chairs produced\n",
    "\n",
    "x³ = quantity of desks produced\n",
    "\n",
    "\n",
    "Note: Optimization?\n",
    "\n",
    "> OUTPUT: for Z\n",
    "\n",
    "> [1]\n",
    "\n",
    "> [1, 1]\n",
    "\n",
    "> [1, 2, 1]\n",
    "\n",
    "> [1, 3, 3, 1]\n",
    "\n",
    "> [1, 4, 6, 4, 1]\n",
    "\n",
    "> [1, 5, 10, 10, 5, 1]\n",
    "\n",
    "> [1, 6, 15, 20, 15, 6, 1]\n",
    "\n",
    "> [1, 7, 21, 35, 35, 21, 7, 1]\n",
    "\n",
    "> [1, 8, 28, 56, 70, 56, 28, 8, 1]\n",
    "\n",
    "> [1, 9, 36, 84, 126, 126, 84, 36, 9, 1]\n",
    "\n",
    "> [1, 10, 45, 120, 210, 252, 210, 120, 45, 10, 1]"
   ]
  }
 ],
 "metadata": {
  "kernelspec": {
   "display_name": "Python 3 (ipykernel)",
   "language": "python",
   "name": "python3"
  },
  "language_info": {
   "codemirror_mode": {
    "name": "ipython",
    "version": 3
   },
   "file_extension": ".py",
   "mimetype": "text/x-python",
   "name": "python",
   "nbconvert_exporter": "python",
   "pygments_lexer": "ipython3",
   "version": "3.11.5"
  }
 },
 "nbformat": 4,
 "nbformat_minor": 5
}
